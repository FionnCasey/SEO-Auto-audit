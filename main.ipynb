{
 "cells": [
  {
   "cell_type": "code",
   "execution_count": null,
   "metadata": {
    "scrolled": false
   },
   "outputs": [],
   "source": [
    "# Always run this first\n",
    "# Don't touch anything here\n",
    "from googleanalytics import initialise_analytics, create_ga_report\n",
    "from screamingfrog import create_sf_report\n",
    "from pagespeed import create_pagespeed_report\n",
    "from utils import merge_ga_sf_data, merge_pagespeed_data\n",
    "import time\n",
    "import re\n",
    "import pandas as pd"
   ]
  },
  {
   "cell_type": "code",
   "execution_count": null,
   "metadata": {},
   "outputs": [],
   "source": [
    "# Sets a timer -- optional\n",
    "START = time.monotonic()"
   ]
  },
  {
   "cell_type": "code",
   "execution_count": null,
   "metadata": {
    "scrolled": false
   },
   "outputs": [],
   "source": [
    "# Account credentials to use\n",
    "# Credentials for each ga account are stored locally the first time they're used\n",
    "GA_ACCOUNT = 'ga.wolfgang@'\n",
    "VIEW_ID = '79256570'\n",
    "\n",
    "# The full base url excluding trailing slash\n",
    "# Used for Screaming Frog and to join datasets\n",
    "BASE_URL = 'https://www.cornmarket.ie'\n",
    "\n",
    "# Date range\n",
    "START_DATE = '2020-01-01'\n",
    "END_DATE = '2020-02-24'\n",
    "\n",
    "# Screaming Frog config file name\n",
    "SF_CONFIG = 'sf_config_default.seospiderconfig'"
   ]
  },
  {
   "cell_type": "code",
   "execution_count": null,
   "metadata": {
    "scrolled": false
   },
   "outputs": [],
   "source": [
    "# Run this to authorise the current Google Analytics account\n",
    "analytics = initialise_analytics(GA_ACCOUNT)"
   ]
  },
  {
   "cell_type": "code",
   "execution_count": null,
   "metadata": {
    "scrolled": false
   },
   "outputs": [],
   "source": [
    "# Run this to create a csv report from Google Analytics\n",
    "create_ga_report(analytics, BASE_URL, VIEW_ID, START_DATE, END_DATE)"
   ]
  },
  {
   "cell_type": "code",
   "execution_count": null,
   "metadata": {
    "scrolled": false
   },
   "outputs": [],
   "source": [
    "# Run this to create csv reports from Screaming Frog\n",
    "create_sf_report(BASE_URL, SF_CONFIG)"
   ]
  },
  {
   "cell_type": "code",
   "execution_count": null,
   "metadata": {},
   "outputs": [],
   "source": [
    "# Merge GA and Screaming Frog data and display the top 10 pages sorted by sessions\n",
    "df = merge_ga_sf_data()\n",
    "df.sort_values(by='sessions', ascending=False).head(10)"
   ]
  },
  {
   "cell_type": "code",
   "execution_count": null,
   "metadata": {},
   "outputs": [],
   "source": [
    "# Run this to create a csv page speed report for urls with status code = 200 & sessions > 0\n",
    "await create_pagespeed_report()"
   ]
  },
  {
   "cell_type": "code",
   "execution_count": null,
   "metadata": {},
   "outputs": [],
   "source": [
    "# Merge page speed data and and display the top 10 pages sorted by sessions\n",
    "df = merge_pagespeed_data()\n",
    "df['landing_page'] = df['landing_page'].apply(lambda x: re.sub('https?://www\\.[^/]+', '', x))\n",
    "pd.options.display.float_format = '{:.2f}'.format\n",
    "df.sort_values(by='sessions', ascending=False).head(10)"
   ]
  },
  {
   "cell_type": "code",
   "execution_count": null,
   "metadata": {},
   "outputs": [],
   "source": [
    "# Display duration -- optional\n",
    "seconds = time.monotonic() - START\n",
    "m, s = divmod(seconds, 60)\n",
    "h, m = divmod(m, 60)\n",
    "print(f'Total Duration: {h:.0f}h {m:.0f}m {s:.0f}s')"
   ]
  },
  {
   "cell_type": "code",
   "execution_count": null,
   "metadata": {},
   "outputs": [],
   "source": []
  }
 ],
 "metadata": {
  "kernelspec": {
   "display_name": "Python 3",
   "language": "python",
   "name": "python3"
  },
  "language_info": {
   "codemirror_mode": {
    "name": "ipython",
    "version": 3
   },
   "file_extension": ".py",
   "mimetype": "text/x-python",
   "name": "python",
   "nbconvert_exporter": "python",
   "pygments_lexer": "ipython3",
   "version": "3.7.0"
  }
 },
 "nbformat": 4,
 "nbformat_minor": 2
}
